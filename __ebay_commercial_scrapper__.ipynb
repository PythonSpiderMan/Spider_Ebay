{
 "cells": [
  {
   "cell_type": "markdown",
   "metadata": {},
   "source": [
    "# This is a categorical scrapping project\n",
    "The goal for the project is to create a scrapper that could monitor the products informations in ebay.\n",
    "\n",
    "It will start from a given search and return all the project it had got.\n",
    "Then becomes a much intellegent scrapper that can cover the entire site and adjusting to changes.\n",
    "\n",
    "It will use xpath first, then it will switch to image recognition mode for futher scrapping."
   ]
  },
  {
   "cell_type": "code",
   "execution_count": 18,
   "metadata": {
    "collapsed": true
   },
   "outputs": [],
   "source": [
    "xpath_search_input_field = r'//*[(@id = \"gh-ac\")]'\n",
    "xpath_search_button = r'//*[(@id = \"gh-btn\")]'"
   ]
  },
  {
   "cell_type": "code",
   "execution_count": 4,
   "metadata": {
    "collapsed": true
   },
   "outputs": [],
   "source": [
    "ebay_url = \"https://www.ebay.com\""
   ]
  },
  {
   "cell_type": "code",
   "execution_count": 139,
   "metadata": {
    "collapsed": true
   },
   "outputs": [],
   "source": [
    "from selenium import webdriver\n",
    "from selenium.webdriver.common.keys import Keys\n",
    "from selenium.webdriver.chrome.options import Options\n",
    "from selenium.webdriver.common.desired_capabilities import DesiredCapabilities\n",
    "import os\n",
    "import logging\n",
    "from parsel import Selector\n",
    "from pprint import *\n",
    "import time\n",
    "from peewee import *\n",
    "from playhouse.sqlite_ext import SqliteExtDatabase\n",
    "import datetime\n",
    "import re\n",
    "import copy\n",
    "import pandas as pd\n",
    "from IPython.display import display, HTML"
   ]
  },
  {
   "cell_type": "code",
   "execution_count": 3,
   "metadata": {
    "collapsed": true
   },
   "outputs": [],
   "source": [
    "given_serach_input = \"Iphone\""
   ]
  },
  {
   "cell_type": "code",
   "execution_count": 13,
   "metadata": {},
   "outputs": [],
   "source": [
    "def web_driver_init():\n",
    "    driver = webdriver.Chrome()\n",
    "    driver.get(ebay_url)\n",
    "    return driver\n",
    "\n",
    "driver = web_driver_init()"
   ]
  },
  {
   "cell_type": "code",
   "execution_count": 19,
   "metadata": {},
   "outputs": [],
   "source": [
    "def search_input_insertation(driver):\n",
    "    try:\n",
    "        driver.find_element_by_xpath(xpath_search_input_field).send_keys(given_serach_input)\n",
    "        driver.find_element_by_xpath(xpath_search_button).click()\n",
    "    except:\n",
    "        logging.error(\"Please switch to a better network condition and try again.\")\n",
    "\n",
    "search_input_insertation(driver)"
   ]
  },
  {
   "cell_type": "code",
   "execution_count": 124,
   "metadata": {
    "collapsed": true
   },
   "outputs": [],
   "source": [
    "db = SqliteDatabase(\"ebay_search_spider_2.db\")\n",
    "db.connect()\n",
    "db.drop_tables([itemOfSearchResult], safe=True)\n",
    "db.create_tables([itemOfSearchResult], safe=True)\n",
    "db.close()\n",
    "\n",
    "class BaseModel(Model):\n",
    "    class Meta:\n",
    "        database = db\n",
    "        \n",
    "class itemOfSearchResult(BaseModel):\n",
    "    product_sponsored = BooleanField()\n",
    "    \n",
    "    product_title = CharField(unique=False)\n",
    "    product_tags = CharField(null=True)\n",
    "    product_status = CharField(null=True)\n",
    "    \n",
    "    product_price_from = CharField(null=True)\n",
    "    product_price_to = CharField(null=True)\n",
    "    products_price_off = CharField(null=True)\n",
    "    \n",
    "    product_shipping = CharField(null=True)\n",
    "    product_fast_returns = BooleanField()\n",
    "    product_estimated_delivery_time = CharField(null=True)\n",
    "    product_guaranteed_by = CharField(null=True)\n",
    "    \n",
    "    product_top_rated_plus = BooleanField()\n",
    "    product_fast_n_free = BooleanField()\n",
    "    product_buy_spry = BooleanField()\n",
    "    \n",
    "    product_watching_or_sold = CharField(null=True)\n",
    "    \n",
    "    products_inventory_infomation = CharField(null=True)\n",
    "    \n",
    "    product_image_url = TextField(null=True)\n",
    "    \n",
    "    scrapped_time = TimeField()"
   ]
  },
  {
   "cell_type": "code",
   "execution_count": 152,
   "metadata": {
    "collapsed": true
   },
   "outputs": [],
   "source": [
    "xpath_product_list = \"\"\"//*[contains(concat( \" \", @class, \" \" ), concat( \" \", \"li\", \" \" ))]\"\"\"\n",
    "\n",
    "xpath_product_sponsored = \"\"\"//*[contains(concat( \" \", @class, \" \" ), concat( \" \", \"promoted-lv\", \" \" ))]//span\"\"\"\n",
    "\n",
    "xpath_product_title = \"\"\"string(//*[contains(concat( \" \", @class, \" \" ), concat( \" \", \"vip\", \" \" ))]//text())\"\"\"\n",
    "xpath_product_tags = \"\"\"//div[@class=\"lvsubtitle\"][1]/text()\"\"\"\n",
    "xpath_product_status = \"\"\"//div[@class=\"lvsubtitle\"][2]/text()\"\"\"\n",
    "\n",
    "xpath_product_price_from = \"\"\"//*[contains(concat( \" \", @class, \" \" ), concat( \" \", \"prRange\", \" \" ))]/text()[1]\"\"\"\n",
    "xpath_product_price_to = \"\"\"//*[contains(concat( \" \", @class, \" \" ), concat( \" \", \"prRange\", \" \" ))]/text()[2]\"\"\"\n",
    "xpath_products_price_off = \"\"\"//*[contains(concat( \" \", @class, \" \" ), concat( \" \", \"black\", \" \" ))]/text()\"\"\"\n",
    "\n",
    "xpath_product_shipping = \"\"\"//*[contains(concat( \" \", @class, \" \" ), concat( \" \", \"ship\", \" \" ))]//*[contains(concat( \" \", @class, \" \" ), concat( \" \", \"bfsp\", \" \" ))]/text()\"\"\"\n",
    "xpath_product_fast_returns = \"\"\"//*[contains(concat( \" \", @class, \" \" ), concat( \" \", \"lvreturns\", \" \" ))]//*[contains(concat( \" \", @class, \" \" ), concat( \" \", \"bfsp\", \" \" ))]\"\"\"\n",
    "xpath_product_estimated_delivery_time = \"\"\"//*[contains(concat( \" \", @class, \" \" ), concat( \" \", \"fnftxt\", \" \" ))]//b/text()\"\"\"\n",
    "xpath_product_guaranteed_by = \"\"\"//*[(@id = \"item1c58f19dc6\")]//b/text()\"\"\"\n",
    "\n",
    "xpath_product_top_rated_plus = \"\"\"//*[contains(concat( \" \", @class, \" \" ), concat( \" \", \"iconETRS2\", \" \" ))]\"\"\"\n",
    "xpath_product_fast_n_free = \"\"\"//*[contains(concat( \" \", @class, \" \" ), concat( \" \", \"fnf-green\", \" \" ))]\"\"\"\n",
    "xpath_product_buy_spry = \"\"\"//*[contains(@class, \"lvdetails\")]//a[contains(@href, \"BuySPRY\")]\"\"\"\n",
    "\n",
    "xpath_product_watching_or_sold = \"\"\"//*[contains(concat( \" \", @class, \" \" ), concat( \" \", \"red\", \" \" ))]/text()\"\"\"\n",
    "\n",
    "xpath_product_inventory_infomation = \"\"\"//*[contains(concat( \" \", @class, \" \" ), concat( \" \", \"lvoptions\", \" \" ))]//a/text()\"\"\"\n",
    "\n",
    "xpath_product_image_url = \"\"\"//*[contains(concat( \" \", @class, \" \" ), concat( \" \", \"img\", \" \" ))]//img/@src\"\"\"\n",
    "\n",
    "\n",
    "xpath_next_page_button = \"\"\"//*[contains(concat( \" \", @class, \" \" ), concat( \" \", \"next\", \" \" ))]\"\"\""
   ]
  },
  {
   "cell_type": "code",
   "execution_count": 151,
   "metadata": {},
   "outputs": [],
   "source": [
    "def collect_page_data(driver):\n",
    "    try:\n",
    "        driver.execute_script(\"window.scrollTo(0, document.body.scrollHeight*4);\")\n",
    "        driver.execute_script(\"window.scrollTo(0, document.body.scrollHeight*4);\")\n",
    "        time.sleep(1)\n",
    "        driver.execute_script(\"window.scrollTo(0, document.body.scrollHeight*4);\")\n",
    "        driver.execute_script(\"window.scrollTo(0, document.body.scrollHeight*4);\")\n",
    "        html = driver.page_source\n",
    "\n",
    "        product_html_list = Selector(text=html).xpath(xpath_product_list).extract()\n",
    "        for product_html in product_html_list:\n",
    "            search_result = itemOfSearchResult()\n",
    "\n",
    "            search_result.product_sponsored = str(Selector(text=product_html).xpath(xpath_product_sponsored).extract_first()).strip()\n",
    "\n",
    "            search_result.product_title = str(Selector(text=product_html).xpath(xpath_product_title).extract_first()).strip()\n",
    "            search_result.product_tags = str(Selector(text=product_html).xpath(xpath_product_tags).extract_first()).strip()\n",
    "            search_result.product_status = str(Selector(text=product_html).xpath(xpath_product_status).extract_first()).strip()\n",
    "\n",
    "            search_result.product_price_from = str(Selector(text=product_html).xpath(xpath_product_price_from).extract_first()).strip()\n",
    "            search_result.product_price_to = str(Selector(text=product_html).xpath(xpath_product_price_to).extract_first()).strip()\n",
    "            search_result.products_price_off = str(str(Selector(text=product_html).xpath(xpath_products_price_off).extract_first())).strip()\n",
    "\n",
    "            search_result.product_shipping = str(Selector(text=product_html).xpath(xpath_product_shipping).extract_first()).strip()\n",
    "            if Selector(text=product_html).xpath(xpath_product_fast_returns).extract_first() is None:\n",
    "                search_result.product_fast_returns = False\n",
    "            else: \n",
    "                search_result.product_fast_returns = True\n",
    "            search_result.product_estimated_delivery_time = str(Selector(text=product_html).xpath(xpath_product_estimated_delivery_time).extract_first()).strip()\n",
    "            search_result.product_guaranteed_by = str(Selector(text=product_html).xpath(xpath_product_guaranteed_by).extract_first()).strip()\n",
    "\n",
    "            if Selector(text=product_html).xpath(xpath_product_top_rated_plus).extract_first() is None:\n",
    "                search_result.product_top_rated_plus = False\n",
    "            else:\n",
    "                search_result.product_top_rated_plus = True\n",
    "            if Selector(text=product_html).xpath(xpath_product_fast_n_free).extract_first() is None:\n",
    "                search_result.product_fast_n_free = False\n",
    "            else:\n",
    "                search_result.product_fast_n_free = True\n",
    "            if Selector(text=product_html).xpath(xpath_product_buy_spry).extract_first() is None:\n",
    "                search_result.product_buy_spry = False\n",
    "            else:\n",
    "                search_result.product_buy_spry = True\n",
    "\n",
    "            search_result.product_watching_or_sold = str(Selector(text=product_html).xpath(xpath_product_watching_or_sold).extract_first()).strip()\n",
    "\n",
    "            search_result.product_inventory_infomation = str(Selector(text=product_html).xpath(xpath_product_inventory_infomation).extract_first()).strip()\n",
    "\n",
    "            search_result.product_image_url = str(Selector(text=product_html).xpath(xpath_product_image_url).extract_first()).strip()\n",
    "\n",
    "            search_result.scrapped_time = str(datetime.datetime.now().strftime(\"%I:%M%p on %B %d, %Y\"))\n",
    "\n",
    "            search_result.save()\n",
    "    except:\n",
    "        logging.error(\"data parsing error: you may need to update the script\")"
   ]
  },
  {
   "cell_type": "code",
   "execution_count": null,
   "metadata": {},
   "outputs": [],
   "source": [
    "def get_to_next_page(driver):\n",
    "    try:\n",
    "        driver.find_element_by_xpath(xpath_next_page_button).click()\n",
    "    except:\n",
    "        raise Exception(\"All Page are scrapped\")\n",
    "try:\n",
    "    while True:\n",
    "        collect_page_data(driver)\n",
    "        get_to_next_page(driver)\n",
    "        print(\"Successfully Get a new page. \")\n",
    "except:\n",
    "    print(\"All pages are scrapped. Script Finished!\")"
   ]
  },
  {
   "cell_type": "code",
   "execution_count": null,
   "metadata": {},
   "outputs": [],
   "source": [
    "for result in itemOfSearchResult.select():\n",
    "    display(result)"
   ]
  },
  {
   "cell_type": "code",
   "execution_count": 155,
   "metadata": {
    "collapsed": true
   },
   "outputs": [],
   "source": []
  },
  {
   "cell_type": "code",
   "execution_count": null,
   "metadata": {
    "collapsed": true
   },
   "outputs": [],
   "source": []
  }
 ],
 "metadata": {
  "kernelspec": {
   "display_name": "Python36 scrapy",
   "language": "python",
   "name": "myenv"
  },
  "language_info": {
   "codemirror_mode": {
    "name": "ipython",
    "version": 3
   },
   "file_extension": ".py",
   "mimetype": "text/x-python",
   "name": "python",
   "nbconvert_exporter": "python",
   "pygments_lexer": "ipython3",
   "version": "3.5.4"
  }
 },
 "nbformat": 4,
 "nbformat_minor": 2
}
